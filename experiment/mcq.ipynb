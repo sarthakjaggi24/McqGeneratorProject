{
 "cells": [
  {
   "cell_type": "code",
   "execution_count": 2,
   "id": "dd4aa5f6",
   "metadata": {},
   "outputs": [],
   "source": [
    "import os\n",
    "import json\n",
    "import pandas as pd\n",
    "import traceback"
   ]
  },
  {
   "cell_type": "code",
   "execution_count": 3,
   "id": "bbccbbb6",
   "metadata": {},
   "outputs": [],
   "source": [
    "from langchain.chat_models import ChatOpenAI"
   ]
  },
  {
   "cell_type": "code",
   "execution_count": 4,
   "id": "9c371a79",
   "metadata": {},
   "outputs": [
    {
     "data": {
      "text/plain": [
       "True"
      ]
     },
     "execution_count": 4,
     "metadata": {},
     "output_type": "execute_result"
    }
   ],
   "source": [
    "from dotenv import load_dotenv\n",
    "load_dotenv()"
   ]
  },
  {
   "cell_type": "code",
   "execution_count": 5,
   "id": "f9d31e32",
   "metadata": {},
   "outputs": [],
   "source": [
    "KEY = os.getenv(\"OPENAI_API_KEY\")"
   ]
  },
  {
   "cell_type": "code",
   "execution_count": 6,
   "id": "20f1e3fc",
   "metadata": {},
   "outputs": [
    {
     "name": "stderr",
     "output_type": "stream",
     "text": [
      "C:\\Users\\jaggi\\AppData\\Local\\Temp\\ipykernel_7916\\2624823570.py:1: LangChainDeprecationWarning: The class `ChatOpenAI` was deprecated in LangChain 0.0.10 and will be removed in 1.0. An updated version of the class exists in the :class:`~langchain-openai package and should be used instead. To use it run `pip install -U :class:`~langchain-openai` and import as `from :class:`~langchain_openai import ChatOpenAI``.\n",
      "  llm = ChatOpenAI(\n"
     ]
    }
   ],
   "source": [
    "llm = ChatOpenAI(\n",
    "    openai_api_key=KEY,\n",
    "    model=\"gpt-4o\",\n",
    "    temperature=0.5\n",
    ")"
   ]
  },
  {
   "cell_type": "code",
   "execution_count": 7,
   "id": "7cb8e26a",
   "metadata": {},
   "outputs": [],
   "source": [
    "from langchain.llms import OpenAI\n",
    "from langchain.prompts import PromptTemplate\n",
    "from langchain.chains import LLMChain\n",
    "from langchain.chains import SequentialChain\n",
    "from langchain.callbacks import get_openai_callback\n",
    "import PyPDF2"
   ]
  },
  {
   "cell_type": "code",
   "execution_count": 8,
   "id": "adce78bc",
   "metadata": {},
   "outputs": [],
   "source": [
    "RESPONSE_JSON = {\n",
    "    \"1\": {\n",
    "        \"mcq\": \"multiple choice question\",\n",
    "        \"options\": {\n",
    "            \"a\": \"choice here\",\n",
    "            \"b\": \"choice here\",\n",
    "            \"c\": \"choice here\",\n",
    "            \"d\": \"choice here\"\n",
    "        },\n",
    "        \"correct\": \"correct answer\"\n",
    "    },\n",
    "\n",
    "    \"2\": {\n",
    "        \"mcq\": \"multiple choice question\",\n",
    "        \"options\": {\n",
    "            \"a\": \"choice here\",\n",
    "            \"b\": \"choice here\",\n",
    "            \"c\": \"choice here\",\n",
    "            \"d\": \"choice here\"\n",
    "        },\n",
    "        \"correct\": \"correct answer\"\n",
    "    },\n",
    "\n",
    "    \"3\": {\n",
    "        \"mcq\": \"multiple choice question\",\n",
    "        \"options\": {\n",
    "            \"a\": \"choice here\",\n",
    "            \"b\": \"choice here\",\n",
    "            \"c\": \"choice here\",\n",
    "            \"d\": \"choice here\"\n",
    "        },\n",
    "        \"correct\": \"correct answer\"\n",
    "    }\n",
    "}"
   ]
  },
  {
   "cell_type": "code",
   "execution_count": 9,
   "id": "a7ad6797",
   "metadata": {},
   "outputs": [],
   "source": [
    "TEMPLATE = \"\"\"\n",
    "You are an expert question generator.\n",
    "\n",
    "Generate {number} multiple-choice questions from the following text.\n",
    "\n",
    "Text:\n",
    "{text}\n",
    "\n",
    "Subject: {subject}\n",
    "Tone: {tone}\n",
    "\n",
    "Return the questions in the following JSON format:\n",
    "{response_json}\n",
    "\n",
    "Rules:\n",
    "- Each question should be clear and concise.\n",
    "- Provide 4 options per question (A, B, C, D).\n",
    "- Mark the correct option.\n",
    "- Ensure questions cover key concepts from the text.\n",
    "- Do not repeat questions.\n",
    "\n",
    "Begin.\n",
    "\"\"\""
   ]
  },
  {
   "cell_type": "code",
   "execution_count": 10,
   "id": "cb0cb136",
   "metadata": {},
   "outputs": [],
   "source": [
    "quiz_generation_prompt = PromptTemplate(\n",
    "    input_variables=[\"text\", \"number\", \"subject\", \"tone\", \"response_json\"],\n",
    "    template=TEMPLATE\n",
    ")"
   ]
  },
  {
   "cell_type": "code",
   "execution_count": 11,
   "id": "c6db3a81",
   "metadata": {},
   "outputs": [
    {
     "name": "stderr",
     "output_type": "stream",
     "text": [
      "C:\\Users\\jaggi\\AppData\\Local\\Temp\\ipykernel_7916\\343908629.py:1: LangChainDeprecationWarning: The class `LLMChain` was deprecated in LangChain 0.1.17 and will be removed in 1.0. Use :meth:`~RunnableSequence, e.g., `prompt | llm`` instead.\n",
      "  quiz_chain = LLMChain(llm = llm, prompt = quiz_generation_prompt, output_key = \"quiz\", verbose=True)\n"
     ]
    }
   ],
   "source": [
    "quiz_chain = LLMChain(llm = llm, prompt = quiz_generation_prompt, output_key = \"quiz\", verbose=True)"
   ]
  },
  {
   "cell_type": "code",
   "execution_count": 12,
   "id": "86707f2a",
   "metadata": {},
   "outputs": [],
   "source": [
    "TEMPLATE_2 = \"\"\"\n",
    "You are an expert English grammarian and writer. Given a multiple-choice quiz designed for {subject} students, evaluate the complexity of the questions and provide a complete analysis of the quiz. Use a maximum of 50 words to comment on complexity. \n",
    "\n",
    "If the quiz does not align with the cognitive and analytical abilities of the students, revise the questions that need improvement. Adjust the tone and language to ensure it perfectly matches the students' comprehension level.\n",
    "\n",
    "Quiz_MCQs: {quiz}\n",
    "\n",
    "Provide your expert analysis of the above quiz:\n",
    "\"\"\""
   ]
  },
  {
   "cell_type": "code",
   "execution_count": 13,
   "id": "4716b61c",
   "metadata": {},
   "outputs": [],
   "source": [
    "quiz_evaluation_prompt = PromptTemplate(\n",
    "    input_variables = [\"subject\", \"quiz\"],\n",
    "    template = TEMPLATE_2\n",
    ")"
   ]
  },
  {
   "cell_type": "code",
   "execution_count": 14,
   "id": "7283607d",
   "metadata": {},
   "outputs": [],
   "source": [
    "review_chain = LLMChain(llm = llm, prompt = quiz_evaluation_prompt, output_key = \"review\", verbose=True)"
   ]
  },
  {
   "cell_type": "code",
   "execution_count": 15,
   "id": "b5ce24e9",
   "metadata": {},
   "outputs": [],
   "source": [
    "quiz_review_chain = SequentialChain(chains = [quiz_chain, review_chain], input_variables = [\"text\", \"number\", \"subject\", \"tone\", \"response_json\"], output_variables = [\"quiz\", \"review\"], verbose=True)"
   ]
  },
  {
   "cell_type": "code",
   "execution_count": 16,
   "id": "36a0b2ab",
   "metadata": {},
   "outputs": [],
   "source": [
    "file_path = r\"C:\\Users\\jaggi\\Desktop\\McqGeneratorProject\\data.txt\""
   ]
  },
  {
   "cell_type": "code",
   "execution_count": 17,
   "id": "1726ac6e",
   "metadata": {},
   "outputs": [],
   "source": [
    "with open(file_path, \"r\") as file:\n",
    "    TEXT = file.read()"
   ]
  },
  {
   "cell_type": "code",
   "execution_count": 18,
   "id": "28299f87",
   "metadata": {},
   "outputs": [
    {
     "name": "stdout",
     "output_type": "stream",
     "text": [
      "Machine Learning (ML) is a subfield of artificial intelligence (AI) that focuses on developing algorithms that allow computers to learn from and make decisions based on data, without being explicitly programmed for every specific task. The core idea is that a system can improve its performance on a task over time as it is exposed to more data. The origins of machine learning trace back to the early 1950s, when computer scientist Arthur Samuel created a program that learned to play checkers, widely considered the first self-learning program. Around the same time, Alan Turing introduced the concept of machine intelligence with his famous Turing Test. In 1957, Frank Rosenblatt developed the \"Perceptron,\" the first neural network algorithm, inspired by the functioning of the human brain. Over the following decades, researchers developed key methods like the nearest neighbor algorithm and backpropagation for training multi-layer neural networks. However, progress was slow due to limited computing power and insufficient data.\n",
      "\n",
      "Machine Learning started gaining momentum in the 1990s and early 2000s with the advent of statistical methods such as Support Vector Machines (SVMs), decision trees, and ensemble methods like Random Forests. The real breakthrough came in 2006 when Geoffrey Hinton and his team reignited interest in deep neural networks by introducing Deep Belief Networks and efficient training methods. This marked the beginning of the “deep learning” era. A watershed moment arrived in 2012 when a deep convolutional neural network, AlexNet, dramatically outperformed traditional methods in the ImageNet computer vision competition. This opened the floodgates for deep learning research, leading to rapid advancements in image processing, natural language processing (NLP), and speech recognition. In recent years, models like Google’s BERT and OpenAI’s GPT series have leveraged transformer architectures to push the boundaries of what machines can understand and generate, bringing ML to mainstream applications like chatbots, recommendation engines, virtual assistants, and autonomous vehicles.\n",
      "\n",
      "The field of machine learning is broadly divided into three main types: supervised learning, unsupervised learning, and reinforcement learning. In supervised learning, algorithms are trained on labeled data — such as predicting house prices based on size and location. Unsupervised learning involves discovering patterns in data without any labels, like grouping customers by buying behavior using clustering. Reinforcement learning, on the other hand, is inspired by behavioral psychology, where agents learn to make decisions by receiving rewards or penalties — this is how systems like AlphaGo and self-driving cars improve. Modern ML also includes semi-supervised learning, self-supervised learning, and online learning to adapt to scenarios with limited labels, or where data continuously flows in.\n",
      "\n",
      "Key components of any ML system include data collection, data preprocessing (cleaning and transforming data), feature engineering (selecting and creating the right inputs), model selection (choosing the right algorithm like linear regression, decision trees, SVMs, neural networks, etc.), training (learning from the data), evaluation (measuring accuracy, precision, recall, etc.), hyperparameter tuning, and deployment (integrating into real-world applications). Tools and languages like Python, Scikit-learn, TensorFlow, PyTorch, Keras, and cloud platforms (AWS, GCP, Azure) play vital roles in developing and scaling ML solutions.\n",
      "\n",
      "Machine Learning is also tightly coupled with mathematics and statistics — especially linear algebra, probability theory, calculus, and optimization techniques — as well as computer science, particularly algorithms, data structures, and software engineering. The integration of these fields has enabled the creation of intelligent systems that are revolutionizing healthcare, finance, education, logistics, and nearly every major industry. As we move forward, ethical considerations, model interpretability, fairness, and data privacy are becoming crucial challenges in machine learning, making it not only a technical field but also a deeply human-centric one.\n"
     ]
    }
   ],
   "source": [
    "print(TEXT)"
   ]
  },
  {
   "cell_type": "code",
   "execution_count": 19,
   "id": "8173b500",
   "metadata": {},
   "outputs": [],
   "source": [
    "NUMBER = 5\n",
    "SUBJECT = \"Machine Learning\"\n",
    "TONE = \"Academic\"\n",
    "RESPONSE_JSON = json.dumps(RESPONSE_JSON)"
   ]
  },
  {
   "cell_type": "code",
   "execution_count": 20,
   "id": "aa644113",
   "metadata": {},
   "outputs": [
    {
     "name": "stderr",
     "output_type": "stream",
     "text": [
      "C:\\Users\\jaggi\\AppData\\Local\\Temp\\ipykernel_7916\\3023380850.py:2: LangChainDeprecationWarning: The method `Chain.__call__` was deprecated in langchain 0.1.0 and will be removed in 1.0. Use :meth:`~invoke` instead.\n",
      "  response = quiz_review_chain(\n"
     ]
    },
    {
     "name": "stdout",
     "output_type": "stream",
     "text": [
      "\n",
      "\n",
      "\u001b[1m> Entering new SequentialChain chain...\u001b[0m\n",
      "\n",
      "\n",
      "\u001b[1m> Entering new LLMChain chain...\u001b[0m\n",
      "Prompt after formatting:\n",
      "\u001b[32;1m\u001b[1;3m\n",
      "You are an expert question generator.\n",
      "\n",
      "Generate 5 multiple-choice questions from the following text.\n",
      "\n",
      "Text:\n",
      "Machine Learning (ML) is a subfield of artificial intelligence (AI) that focuses on developing algorithms that allow computers to learn from and make decisions based on data, without being explicitly programmed for every specific task. The core idea is that a system can improve its performance on a task over time as it is exposed to more data. The origins of machine learning trace back to the early 1950s, when computer scientist Arthur Samuel created a program that learned to play checkers, widely considered the first self-learning program. Around the same time, Alan Turing introduced the concept of machine intelligence with his famous Turing Test. In 1957, Frank Rosenblatt developed the \"Perceptron,\" the first neural network algorithm, inspired by the functioning of the human brain. Over the following decades, researchers developed key methods like the nearest neighbor algorithm and backpropagation for training multi-layer neural networks. However, progress was slow due to limited computing power and insufficient data.\n",
      "\n",
      "Machine Learning started gaining momentum in the 1990s and early 2000s with the advent of statistical methods such as Support Vector Machines (SVMs), decision trees, and ensemble methods like Random Forests. The real breakthrough came in 2006 when Geoffrey Hinton and his team reignited interest in deep neural networks by introducing Deep Belief Networks and efficient training methods. This marked the beginning of the “deep learning” era. A watershed moment arrived in 2012 when a deep convolutional neural network, AlexNet, dramatically outperformed traditional methods in the ImageNet computer vision competition. This opened the floodgates for deep learning research, leading to rapid advancements in image processing, natural language processing (NLP), and speech recognition. In recent years, models like Google’s BERT and OpenAI’s GPT series have leveraged transformer architectures to push the boundaries of what machines can understand and generate, bringing ML to mainstream applications like chatbots, recommendation engines, virtual assistants, and autonomous vehicles.\n",
      "\n",
      "The field of machine learning is broadly divided into three main types: supervised learning, unsupervised learning, and reinforcement learning. In supervised learning, algorithms are trained on labeled data — such as predicting house prices based on size and location. Unsupervised learning involves discovering patterns in data without any labels, like grouping customers by buying behavior using clustering. Reinforcement learning, on the other hand, is inspired by behavioral psychology, where agents learn to make decisions by receiving rewards or penalties — this is how systems like AlphaGo and self-driving cars improve. Modern ML also includes semi-supervised learning, self-supervised learning, and online learning to adapt to scenarios with limited labels, or where data continuously flows in.\n",
      "\n",
      "Key components of any ML system include data collection, data preprocessing (cleaning and transforming data), feature engineering (selecting and creating the right inputs), model selection (choosing the right algorithm like linear regression, decision trees, SVMs, neural networks, etc.), training (learning from the data), evaluation (measuring accuracy, precision, recall, etc.), hyperparameter tuning, and deployment (integrating into real-world applications). Tools and languages like Python, Scikit-learn, TensorFlow, PyTorch, Keras, and cloud platforms (AWS, GCP, Azure) play vital roles in developing and scaling ML solutions.\n",
      "\n",
      "Machine Learning is also tightly coupled with mathematics and statistics — especially linear algebra, probability theory, calculus, and optimization techniques — as well as computer science, particularly algorithms, data structures, and software engineering. The integration of these fields has enabled the creation of intelligent systems that are revolutionizing healthcare, finance, education, logistics, and nearly every major industry. As we move forward, ethical considerations, model interpretability, fairness, and data privacy are becoming crucial challenges in machine learning, making it not only a technical field but also a deeply human-centric one.\n",
      "\n",
      "Subject: Machine Learning\n",
      "Tone: Academic\n",
      "\n",
      "Return the questions in the following JSON format:\n",
      "{\"1\": {\"mcq\": \"multiple choice question\", \"options\": {\"a\": \"choice here\", \"b\": \"choice here\", \"c\": \"choice here\", \"d\": \"choice here\"}, \"correct\": \"correct answer\"}, \"2\": {\"mcq\": \"multiple choice question\", \"options\": {\"a\": \"choice here\", \"b\": \"choice here\", \"c\": \"choice here\", \"d\": \"choice here\"}, \"correct\": \"correct answer\"}, \"3\": {\"mcq\": \"multiple choice question\", \"options\": {\"a\": \"choice here\", \"b\": \"choice here\", \"c\": \"choice here\", \"d\": \"choice here\"}, \"correct\": \"correct answer\"}}\n",
      "\n",
      "Rules:\n",
      "- Each question should be clear and concise.\n",
      "- Provide 4 options per question (A, B, C, D).\n",
      "- Mark the correct option.\n",
      "- Ensure questions cover key concepts from the text.\n",
      "- Do not repeat questions.\n",
      "\n",
      "Begin.\n",
      "\u001b[0m\n",
      "\n",
      "\u001b[1m> Finished chain.\u001b[0m\n",
      "\n",
      "\n",
      "\u001b[1m> Entering new LLMChain chain...\u001b[0m\n",
      "Prompt after formatting:\n",
      "\u001b[32;1m\u001b[1;3m\n",
      "You are an expert English grammarian and writer. Given a multiple-choice quiz designed for Machine Learning students, evaluate the complexity of the questions and provide a complete analysis of the quiz. Use a maximum of 50 words to comment on complexity. \n",
      "\n",
      "If the quiz does not align with the cognitive and analytical abilities of the students, revise the questions that need improvement. Adjust the tone and language to ensure it perfectly matches the students' comprehension level.\n",
      "\n",
      "Quiz_MCQs: ```json\n",
      "{\n",
      "    \"1\": {\n",
      "        \"mcq\": \"What was the first self-learning program developed in the early 1950s?\",\n",
      "        \"options\": {\n",
      "            \"a\": \"AlphaGo\",\n",
      "            \"b\": \"Deep Belief Networks\",\n",
      "            \"c\": \"Checkers program by Arthur Samuel\",\n",
      "            \"d\": \"Perceptron by Frank Rosenblatt\"\n",
      "        },\n",
      "        \"correct\": \"c\"\n",
      "    },\n",
      "    \"2\": {\n",
      "        \"mcq\": \"Which algorithm marked the beginning of the 'deep learning' era in 2006?\",\n",
      "        \"options\": {\n",
      "            \"a\": \"Support Vector Machines\",\n",
      "            \"b\": \"Deep Belief Networks\",\n",
      "            \"c\": \"Random Forests\",\n",
      "            \"d\": \"Nearest Neighbor Algorithm\"\n",
      "        },\n",
      "        \"correct\": \"b\"\n",
      "    },\n",
      "    \"3\": {\n",
      "        \"mcq\": \"What is the primary focus of supervised learning in machine learning?\",\n",
      "        \"options\": {\n",
      "            \"a\": \"Discovering patterns without labels\",\n",
      "            \"b\": \"Training algorithms on labeled data\",\n",
      "            \"c\": \"Learning from rewards and penalties\",\n",
      "            \"d\": \"Adapting to scenarios with limited labels\"\n",
      "        },\n",
      "        \"correct\": \"b\"\n",
      "    },\n",
      "    \"4\": {\n",
      "        \"mcq\": \"Which of the following is NOT a key component of an ML system?\",\n",
      "        \"options\": {\n",
      "            \"a\": \"Data preprocessing\",\n",
      "            \"b\": \"Feature engineering\",\n",
      "            \"c\": \"Quantum computing\",\n",
      "            \"d\": \"Hyperparameter tuning\"\n",
      "        },\n",
      "        \"correct\": \"c\"\n",
      "    },\n",
      "    \"5\": {\n",
      "        \"mcq\": \"Which fields are essential for the development of machine learning systems?\",\n",
      "        \"options\": {\n",
      "            \"a\": \"Mathematics and statistics\",\n",
      "            \"b\": \"Philosophy and art\",\n",
      "            \"c\": \"Biology and chemistry\",\n",
      "            \"d\": \"History and geography\"\n",
      "        },\n",
      "        \"correct\": \"a\"\n",
      "    }\n",
      "}\n",
      "```\n",
      "\n",
      "Provide your expert analysis of the above quiz:\n",
      "\u001b[0m\n",
      "\n",
      "\u001b[1m> Finished chain.\u001b[0m\n",
      "\n",
      "\u001b[1m> Finished chain.\u001b[0m\n"
     ]
    }
   ],
   "source": [
    "with get_openai_callback() as cb:\n",
    "    response = quiz_review_chain(\n",
    "        {\n",
    "            \"text\": TEXT,\n",
    "            \"number\": NUMBER,\n",
    "            \"subject\": SUBJECT,\n",
    "            \"tone\": TONE,\n",
    "            \"response_json\": RESPONSE_JSON\n",
    "        }\n",
    "    )"
   ]
  },
  {
   "cell_type": "code",
   "execution_count": 21,
   "id": "966baabf",
   "metadata": {},
   "outputs": [
    {
     "name": "stdout",
     "output_type": "stream",
     "text": [
      "Total Tokens: 2022\n",
      "Prompt Token:1548\n",
      "Completion Tokens:474\n",
      "Total Cost: $0.00861\n"
     ]
    }
   ],
   "source": [
    "print(f\"Total Tokens: {cb.total_tokens}\")\n",
    "print(f\"Prompt Token:{cb.prompt_tokens}\")\n",
    "print(f\"Completion Tokens:{cb.completion_tokens}\")\n",
    "print(f\"Total Cost: ${cb.total_cost}\")"
   ]
  },
  {
   "cell_type": "code",
   "execution_count": 22,
   "id": "34ca7604",
   "metadata": {},
   "outputs": [],
   "source": [
    "quiz = response.get(\"quiz\")"
   ]
  },
  {
   "cell_type": "code",
   "execution_count": 23,
   "id": "1d341b73",
   "metadata": {},
   "outputs": [
    {
     "data": {
      "text/plain": [
       "'```json\\n{\\n    \"1\": {\\n        \"mcq\": \"What was the first self-learning program developed in the early 1950s?\",\\n        \"options\": {\\n            \"a\": \"AlphaGo\",\\n            \"b\": \"Deep Belief Networks\",\\n            \"c\": \"Checkers program by Arthur Samuel\",\\n            \"d\": \"Perceptron by Frank Rosenblatt\"\\n        },\\n        \"correct\": \"c\"\\n    },\\n    \"2\": {\\n        \"mcq\": \"Which algorithm marked the beginning of the \\'deep learning\\' era in 2006?\",\\n        \"options\": {\\n            \"a\": \"Support Vector Machines\",\\n            \"b\": \"Deep Belief Networks\",\\n            \"c\": \"Random Forests\",\\n            \"d\": \"Nearest Neighbor Algorithm\"\\n        },\\n        \"correct\": \"b\"\\n    },\\n    \"3\": {\\n        \"mcq\": \"What is the primary focus of supervised learning in machine learning?\",\\n        \"options\": {\\n            \"a\": \"Discovering patterns without labels\",\\n            \"b\": \"Training algorithms on labeled data\",\\n            \"c\": \"Learning from rewards and penalties\",\\n            \"d\": \"Adapting to scenarios with limited labels\"\\n        },\\n        \"correct\": \"b\"\\n    },\\n    \"4\": {\\n        \"mcq\": \"Which of the following is NOT a key component of an ML system?\",\\n        \"options\": {\\n            \"a\": \"Data preprocessing\",\\n            \"b\": \"Feature engineering\",\\n            \"c\": \"Quantum computing\",\\n            \"d\": \"Hyperparameter tuning\"\\n        },\\n        \"correct\": \"c\"\\n    },\\n    \"5\": {\\n        \"mcq\": \"Which fields are essential for the development of machine learning systems?\",\\n        \"options\": {\\n            \"a\": \"Mathematics and statistics\",\\n            \"b\": \"Philosophy and art\",\\n            \"c\": \"Biology and chemistry\",\\n            \"d\": \"History and geography\"\\n        },\\n        \"correct\": \"a\"\\n    }\\n}\\n```'"
      ]
     },
     "execution_count": 23,
     "metadata": {},
     "output_type": "execute_result"
    }
   ],
   "source": [
    "quiz"
   ]
  },
  {
   "cell_type": "code",
   "execution_count": 24,
   "id": "b0f282d5",
   "metadata": {},
   "outputs": [],
   "source": [
    "cleaned_quiz = quiz.replace(\"```json\", \"\").replace(\"```\", \"\").strip()"
   ]
  },
  {
   "cell_type": "code",
   "execution_count": 25,
   "id": "832b1496",
   "metadata": {},
   "outputs": [],
   "source": [
    "quiz_dict = json.loads(cleaned_quiz)"
   ]
  },
  {
   "cell_type": "code",
   "execution_count": 26,
   "id": "94b20bf0",
   "metadata": {},
   "outputs": [],
   "source": [
    "quiz_json_output = json.dumps(quiz_dict, indent=4)"
   ]
  },
  {
   "cell_type": "code",
   "execution_count": 29,
   "id": "314e9891",
   "metadata": {},
   "outputs": [
    {
     "name": "stdout",
     "output_type": "stream",
     "text": [
      "{\n",
      "    \"1\": {\n",
      "        \"mcq\": \"What was the first self-learning program developed in the early 1950s?\",\n",
      "        \"options\": {\n",
      "            \"a\": \"AlphaGo\",\n",
      "            \"b\": \"Deep Belief Networks\",\n",
      "            \"c\": \"Checkers program by Arthur Samuel\",\n",
      "            \"d\": \"Perceptron by Frank Rosenblatt\"\n",
      "        },\n",
      "        \"correct\": \"c\"\n",
      "    },\n",
      "    \"2\": {\n",
      "        \"mcq\": \"Which algorithm marked the beginning of the 'deep learning' era in 2006?\",\n",
      "        \"options\": {\n",
      "            \"a\": \"Support Vector Machines\",\n",
      "            \"b\": \"Deep Belief Networks\",\n",
      "            \"c\": \"Random Forests\",\n",
      "            \"d\": \"Nearest Neighbor Algorithm\"\n",
      "        },\n",
      "        \"correct\": \"b\"\n",
      "    },\n",
      "    \"3\": {\n",
      "        \"mcq\": \"What is the primary focus of supervised learning in machine learning?\",\n",
      "        \"options\": {\n",
      "            \"a\": \"Discovering patterns without labels\",\n",
      "            \"b\": \"Training algorithms on labeled data\",\n",
      "            \"c\": \"Learning from rewards and penalties\",\n",
      "            \"d\": \"Adapting to scenarios with limited labels\"\n",
      "        },\n",
      "        \"correct\": \"b\"\n",
      "    },\n",
      "    \"4\": {\n",
      "        \"mcq\": \"Which of the following is NOT a key component of an ML system?\",\n",
      "        \"options\": {\n",
      "            \"a\": \"Data preprocessing\",\n",
      "            \"b\": \"Feature engineering\",\n",
      "            \"c\": \"Quantum computing\",\n",
      "            \"d\": \"Hyperparameter tuning\"\n",
      "        },\n",
      "        \"correct\": \"c\"\n",
      "    },\n",
      "    \"5\": {\n",
      "        \"mcq\": \"Which fields are essential for the development of machine learning systems?\",\n",
      "        \"options\": {\n",
      "            \"a\": \"Mathematics and statistics\",\n",
      "            \"b\": \"Philosophy and art\",\n",
      "            \"c\": \"Biology and chemistry\",\n",
      "            \"d\": \"History and geography\"\n",
      "        },\n",
      "        \"correct\": \"a\"\n",
      "    }\n",
      "}\n"
     ]
    }
   ],
   "source": [
    "print(quiz_json_output)"
   ]
  },
  {
   "cell_type": "code",
   "execution_count": 30,
   "id": "3611c52b",
   "metadata": {},
   "outputs": [],
   "source": [
    "quiz_table_data = []\n",
    "for key, value in quiz_dict.items():\n",
    "    mcq = value[\"mcq\"]\n",
    "    options = \" | \".join(\n",
    "        [\n",
    "            f\"{option}: {option_value}\"\n",
    "            for option, option_value in value[\"options\"].items()\n",
    "        ]\n",
    "    )\n",
    "    correct = value[\"correct\"]\n",
    "    quiz_table_data.append({\n",
    "        \"MCQ\": mcq,\n",
    "        \"Options\": options,\n",
    "        \"Correct Answer\": correct\n",
    "    })"
   ]
  },
  {
   "cell_type": "code",
   "execution_count": 31,
   "id": "7ac049af",
   "metadata": {},
   "outputs": [
    {
     "data": {
      "text/plain": [
       "[{'MCQ': 'What was the first self-learning program developed in the early 1950s?',\n",
       "  'Options': 'a: AlphaGo | b: Deep Belief Networks | c: Checkers program by Arthur Samuel | d: Perceptron by Frank Rosenblatt',\n",
       "  'Correct Answer': 'c'},\n",
       " {'MCQ': \"Which algorithm marked the beginning of the 'deep learning' era in 2006?\",\n",
       "  'Options': 'a: Support Vector Machines | b: Deep Belief Networks | c: Random Forests | d: Nearest Neighbor Algorithm',\n",
       "  'Correct Answer': 'b'},\n",
       " {'MCQ': 'What is the primary focus of supervised learning in machine learning?',\n",
       "  'Options': 'a: Discovering patterns without labels | b: Training algorithms on labeled data | c: Learning from rewards and penalties | d: Adapting to scenarios with limited labels',\n",
       "  'Correct Answer': 'b'},\n",
       " {'MCQ': 'Which of the following is NOT a key component of an ML system?',\n",
       "  'Options': 'a: Data preprocessing | b: Feature engineering | c: Quantum computing | d: Hyperparameter tuning',\n",
       "  'Correct Answer': 'c'},\n",
       " {'MCQ': 'Which fields are essential for the development of machine learning systems?',\n",
       "  'Options': 'a: Mathematics and statistics | b: Philosophy and art | c: Biology and chemistry | d: History and geography',\n",
       "  'Correct Answer': 'a'}]"
      ]
     },
     "execution_count": 31,
     "metadata": {},
     "output_type": "execute_result"
    }
   ],
   "source": [
    "quiz_table_data"
   ]
  },
  {
   "cell_type": "code",
   "execution_count": 33,
   "id": "286aa9e0",
   "metadata": {},
   "outputs": [],
   "source": [
    "quiz = pd.DataFrame(quiz_table_data)"
   ]
  },
  {
   "cell_type": "code",
   "execution_count": 34,
   "id": "2c4c3ade",
   "metadata": {},
   "outputs": [],
   "source": [
    "quiz.to_csv(\"machine_learning_quiz.csv\", index=False)"
   ]
  },
  {
   "cell_type": "code",
   "execution_count": 3,
   "id": "038321d7",
   "metadata": {},
   "outputs": [
    {
     "data": {
      "text/plain": [
       "'2025-08-11 20:11:06'"
      ]
     },
     "execution_count": 3,
     "metadata": {},
     "output_type": "execute_result"
    }
   ],
   "source": [
    "from datetime import datetime\n",
    "datetime.now().strftime(\"%Y-%m-%d %H:%M:%S\")"
   ]
  },
  {
   "cell_type": "code",
   "execution_count": null,
   "id": "5a26f315",
   "metadata": {},
   "outputs": [],
   "source": []
  }
 ],
 "metadata": {
  "kernelspec": {
   "display_name": "Python 3",
   "language": "python",
   "name": "python3"
  },
  "language_info": {
   "codemirror_mode": {
    "name": "ipython",
    "version": 3
   },
   "file_extension": ".py",
   "mimetype": "text/x-python",
   "name": "python",
   "nbconvert_exporter": "python",
   "pygments_lexer": "ipython3",
   "version": "3.11.13"
  }
 },
 "nbformat": 4,
 "nbformat_minor": 5
}
